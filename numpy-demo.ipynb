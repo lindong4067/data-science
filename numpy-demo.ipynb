{
 "cells": [
  {
   "cell_type": "code",
   "execution_count": 1,
   "metadata": {},
   "outputs": [
    {
     "name": "stdout",
     "output_type": "stream",
     "text": [
      "[10 20 30]\n",
      "<class 'numpy.ndarray'>\n"
     ]
    }
   ],
   "source": [
    "import numpy as np\n",
    "a = np.array([10,20,30])\n",
    "print(a)\n",
    "print(type(a))"
   ]
  },
  {
   "cell_type": "code",
   "execution_count": 2,
   "metadata": {},
   "outputs": [
    {
     "name": "stdout",
     "output_type": "stream",
     "text": [
      "[ 0  1  2  3  4  5  6  7  8  9 10 11 12 13 14]\n"
     ]
    }
   ],
   "source": [
    "a = np.arange(15)\n",
    "print(a)"
   ]
  },
  {
   "cell_type": "code",
   "execution_count": 3,
   "metadata": {},
   "outputs": [
    {
     "name": "stdout",
     "output_type": "stream",
     "text": [
      "[ 0  1  2  3  4  5  6  7  8  9 10 11 12 13 14]\n"
     ]
    }
   ],
   "source": [
    "a = np.array(range(15))\n",
    "print(a)"
   ]
  },
  {
   "cell_type": "code",
   "execution_count": 4,
   "metadata": {},
   "outputs": [
    {
     "name": "stdout",
     "output_type": "stream",
     "text": [
      "[0, 1, 2, 3, 4, 5, 6, 7, 8, 9, 10, 11, 12, 13, 14]\n"
     ]
    }
   ],
   "source": [
    "a = list(range(15))\n",
    "print(a)"
   ]
  },
  {
   "cell_type": "code",
   "execution_count": 5,
   "metadata": {},
   "outputs": [
    {
     "name": "stdout",
     "output_type": "stream",
     "text": [
      "[10 11 12 13 14 15 16 17 18 19]\n"
     ]
    }
   ],
   "source": [
    "a = np.arange(10,20)\n",
    "print(a)"
   ]
  },
  {
   "cell_type": "code",
   "execution_count": 6,
   "metadata": {},
   "outputs": [
    {
     "name": "stdout",
     "output_type": "stream",
     "text": [
      "[10 13 16 19]\n"
     ]
    }
   ],
   "source": [
    "a = np.arange(10, 20, 3)\n",
    "print(a)"
   ]
  },
  {
   "cell_type": "code",
   "execution_count": 7,
   "metadata": {},
   "outputs": [
    {
     "name": "stdout",
     "output_type": "stream",
     "text": [
      "3\n",
      "[0 1 2]\n",
      "[3 4]\n"
     ]
    }
   ],
   "source": [
    "a = np.arange(5)\n",
    "print(a[3])\n",
    "print(a[:3])\n",
    "print(a[3:])"
   ]
  },
  {
   "cell_type": "code",
   "execution_count": 8,
   "metadata": {},
   "outputs": [
    {
     "name": "stdout",
     "output_type": "stream",
     "text": [
      "[  0   1   2 100 101 102 103 104   8   9]\n"
     ]
    }
   ],
   "source": [
    "a = np.arange(10)\n",
    "a[3:8] = range(100, 105)\n",
    "print(a)"
   ]
  },
  {
   "cell_type": "code",
   "execution_count": 9,
   "metadata": {},
   "outputs": [
    {
     "name": "stdout",
     "output_type": "stream",
     "text": [
      "[0. 0. 0. 0. 0.]\n"
     ]
    }
   ],
   "source": [
    "a = np.zeros(5)\n",
    "print(a)"
   ]
  },
  {
   "cell_type": "code",
   "execution_count": 10,
   "metadata": {},
   "outputs": [
    {
     "name": "stdout",
     "output_type": "stream",
     "text": [
      "[0.96861303 0.75588473 0.48835698 0.32184315 0.96251909]\n"
     ]
    }
   ],
   "source": [
    "a = np.random.rand(5)\n",
    "print(a)"
   ]
  },
  {
   "cell_type": "code",
   "execution_count": 11,
   "metadata": {},
   "outputs": [
    {
     "name": "stdout",
     "output_type": "stream",
     "text": [
      "2\n"
     ]
    }
   ],
   "source": [
    "a = np.random.randint(5)\n",
    "print(a)"
   ]
  },
  {
   "cell_type": "code",
   "execution_count": 12,
   "metadata": {},
   "outputs": [
    {
     "name": "stdout",
     "output_type": "stream",
     "text": [
      "[1. 2. 3. 4. 5.]\n",
      "[1. 2. 3. 4. 5.]\n"
     ]
    }
   ],
   "source": [
    "a = np.fromstring('1 2 3 4 5', sep= ' ')\n",
    "print(a)\n",
    "\n",
    "a = np.fromstring('1,2,3,4,5', sep= ',')\n",
    "print(a)"
   ]
  },
  {
   "cell_type": "code",
   "execution_count": 13,
   "metadata": {},
   "outputs": [
    {
     "name": "stdout",
     "output_type": "stream",
     "text": [
      "[[11. 12. 13. 14. 15.]\n",
      " [21. 22. 23. 24. 25.]\n",
      " [31. 32. 33. 34. 35.]]\n",
      "[11. 21. 31.]\n"
     ]
    }
   ],
   "source": [
    "a = np.loadtxt('nums.txt', delimiter=',')\n",
    "print(a)\n",
    "\n",
    "a = np.loadtxt('nums.txt', usecols=[0], delimiter=',')\n",
    "print(a)"
   ]
  },
  {
   "cell_type": "code",
   "execution_count": 14,
   "metadata": {},
   "outputs": [
    {
     "name": "stdout",
     "output_type": "stream",
     "text": [
      "[0 1 2 3 4]\n",
      "[3 4 5 6 7]\n",
      "[ 0  3  6  9 12]\n",
      "[0.   0.25 0.5  0.75 1.  ]\n"
     ]
    }
   ],
   "source": [
    "a = np.arange(5)\n",
    "print(a)\n",
    "print(a + 3)\n",
    "print(a * 3)\n",
    "print(a / 4)"
   ]
  },
  {
   "cell_type": "code",
   "execution_count": 15,
   "metadata": {},
   "outputs": [
    {
     "name": "stdout",
     "output_type": "stream",
     "text": [
      "[10 12 14 16 18]\n",
      "[ 0 11 24 39 56]\n",
      "[        0         1      4096   1594323 268435456]\n"
     ]
    }
   ],
   "source": [
    "a = np.arange(5)\n",
    "b = np.arange(10, 15)\n",
    "print(a + b)\n",
    "print(a * b)\n",
    "print(a ** b)"
   ]
  },
  {
   "cell_type": "code",
   "execution_count": 16,
   "metadata": {},
   "outputs": [
    {
     "name": "stdout",
     "output_type": "stream",
     "text": [
      "[10. 10. 10. 10. 10.]\n"
     ]
    }
   ],
   "source": [
    "a = np.ones(5) * 10\n",
    "print(a)"
   ]
  },
  {
   "cell_type": "code",
   "execution_count": 17,
   "metadata": {},
   "outputs": [
    {
     "name": "stdout",
     "output_type": "stream",
     "text": [
      "[1 2 3 4]\n",
      "10\n",
      "4\n",
      "2.5\n",
      "4\n",
      "1\n"
     ]
    }
   ],
   "source": [
    "a = np.arange(1,5)\n",
    "print(a)\n",
    "print(np.sum(a))\n",
    "print(np.size(a))\n",
    "print(np.mean(a))\n",
    "print(np.max(a))\n",
    "print(np.min(a))"
   ]
  },
  {
   "cell_type": "code",
   "execution_count": 18,
   "metadata": {},
   "outputs": [
    {
     "name": "stdout",
     "output_type": "stream",
     "text": [
      "[10 13 16 19 22 25 28 31 34]\n",
      "[19 25 31]\n",
      "[19 25 31]\n"
     ]
    }
   ],
   "source": [
    "a = np.arange(10, 35, 3)\n",
    "print(a)\n",
    "print(a[[3,5,7]])\n",
    "x = np.array([3,5,7])\n",
    "print(a[x])"
   ]
  },
  {
   "cell_type": "code",
   "execution_count": 19,
   "metadata": {},
   "outputs": [
    {
     "name": "stdout",
     "output_type": "stream",
     "text": [
      "[0 1 2 3 4]\n",
      "[ True  True  True False False]\n",
      "[False False False False  True]\n",
      "[False False False  True False]\n"
     ]
    }
   ],
   "source": [
    "a = np.arange(0,5)\n",
    "print(a)\n",
    "print(a < 3)\n",
    "print(a > 3)\n",
    "print(a == 3)"
   ]
  },
  {
   "cell_type": "code",
   "execution_count": 20,
   "metadata": {},
   "outputs": [
    {
     "name": "stdout",
     "output_type": "stream",
     "text": [
      "[0 1 2]\n",
      "[4]\n",
      "[3]\n",
      "[0 1 2 4]\n",
      "[0 1 2 3 4]\n",
      "[0 1 2 4]\n"
     ]
    }
   ],
   "source": [
    "a = np.arange(0,5)\n",
    "print(a[a<3])\n",
    "print(a[a>3])\n",
    "print(a[a==3])\n",
    "print(a[(a<3) | (a>3)])\n",
    "print(a[(a>2) | (a<4)])\n",
    "print(a[~(a==3)])"
   ]
  },
  {
   "cell_type": "code",
   "execution_count": 21,
   "metadata": {},
   "outputs": [
    {
     "name": "stdout",
     "output_type": "stream",
     "text": [
      "[10 13 16 19 22 25 28 31 34]\n",
      "[0 1 0 1 0 1 0 1 0]\n",
      "[10 16 22 28 34]\n"
     ]
    }
   ],
   "source": [
    "a = np.arange(10, 35, 3)\n",
    "print(a)\n",
    "print(a%2)\n",
    "print(a[(a%2) == 0])"
   ]
  },
  {
   "cell_type": "code",
   "execution_count": 22,
   "metadata": {},
   "outputs": [
    {
     "name": "stdout",
     "output_type": "stream",
     "text": [
      "[0 1 2 3 4]\n",
      "[0 2 4]\n",
      "[999   1 999   3 999]\n"
     ]
    }
   ],
   "source": [
    "a = np.arange(0,5)\n",
    "print(a)\n",
    "print(a[(a%2) == 0])\n",
    "a[(a%2) == 0] = 999\n",
    "print(a)"
   ]
  },
  {
   "cell_type": "code",
   "execution_count": 23,
   "metadata": {},
   "outputs": [
    {
     "name": "stdout",
     "output_type": "stream",
     "text": [
      "int32\n",
      "float64\n",
      "[0. 1. 2. 3. 4.]\n",
      "float64\n",
      "[ 4.8 11.5 20.4]\n",
      "float64\n",
      "['10' '20' 'abc' '40' 'defg']\n",
      "<U11\n"
     ]
    }
   ],
   "source": [
    "a = np.array([10, 20, 30])\n",
    "print(a.dtype)\n",
    "\n",
    "a = np.array([10, 20.5, 30.7])\n",
    "print(a.dtype)\n",
    "\n",
    "a = np.arange(5, dtype=np.float64)\n",
    "print(a)\n",
    "print(a.dtype)\n",
    "\n",
    "a = np.array([1.2, 2.3, 3.4])\n",
    "b = np.array([4, 5, 6])\n",
    "c = a * b\n",
    "print(c)\n",
    "print(c.dtype)\n",
    "\n",
    "a = np.array([10, 20, 'abc', 40, 'defg'])\n",
    "print(a)\n",
    "print(a.dtype)"
   ]
  },
  {
   "cell_type": "code",
   "execution_count": 24,
   "metadata": {},
   "outputs": [
    {
     "name": "stdout",
     "output_type": "stream",
     "text": [
      "[10 20 30]\n",
      "int32\n"
     ]
    },
    {
     "data": {
      "text/plain": [
       "65536"
      ]
     },
     "execution_count": 24,
     "metadata": {},
     "output_type": "execute_result"
    }
   ],
   "source": [
    "a = np.array([10, 20, 30])\n",
    "a.astype('int64')\n",
    "print(a)\n",
    "print(a.dtype)\n",
    "2**16"
   ]
  },
  {
   "cell_type": "code",
   "execution_count": 25,
   "metadata": {},
   "outputs": [
    {
     "name": "stdout",
     "output_type": "stream",
     "text": [
      "<class 'float'>\n",
      "False\n",
      "True\n",
      "[ 1.  2.  3. nan  5.]\n",
      "[False False False  True False]\n",
      "nan\n",
      "nan\n",
      "[nan]\n",
      "[1. 2. 3. 5.]\n",
      "2.75\n"
     ]
    }
   ],
   "source": [
    "a = np.nan\n",
    "print(type(a))\n",
    "print(np.nan == np.nan)\n",
    "print(np.nan is np.nan)\n",
    "\n",
    "a = np.array([1,2,3,np.nan,5])\n",
    "print(a)\n",
    "print(np.isnan(a))\n",
    "print(np.mean(a))\n",
    "print(np.sum(a))\n",
    "\n",
    "print(a[np.isnan(a)])\n",
    "print(a[~np.isnan(a)])\n",
    "print(np.mean(a[~np.isnan(a)]))"
   ]
  },
  {
   "cell_type": "code",
   "execution_count": 26,
   "metadata": {},
   "outputs": [
    {
     "name": "stdout",
     "output_type": "stream",
     "text": [
      "[[1 2 3]\n",
      " [4 5 6]]\n",
      "[1 2 3]\n",
      "[4 5 6]\n"
     ]
    }
   ],
   "source": [
    "# multidimensional\n",
    "a = np.array([[1,2,3], [4,5,6]])\n",
    "print(a)\n",
    "print(a[0])\n",
    "print(a[1])"
   ]
  },
  {
   "cell_type": "code",
   "execution_count": 27,
   "metadata": {},
   "outputs": [
    {
     "name": "stdout",
     "output_type": "stream",
     "text": [
      "[1 4]\n",
      "[2 5]\n",
      "3\n"
     ]
    }
   ],
   "source": [
    "# grabbing columns\n",
    "print(a[:,0])\n",
    "print(a[:,1])\n",
    "print(a[0,2])"
   ]
  },
  {
   "cell_type": "code",
   "execution_count": 28,
   "metadata": {},
   "outputs": [
    {
     "name": "stdout",
     "output_type": "stream",
     "text": [
      "[[ 0  1  2  3  4]\n",
      " [ 5  6  7  8  9]\n",
      " [10 11 12 13 14]]\n"
     ]
    }
   ],
   "source": [
    "# reshaping\n",
    "a = np.arange(15)\n",
    "a = a.reshape(3, 5)\n",
    "print(a)"
   ]
  },
  {
   "cell_type": "code",
   "execution_count": 29,
   "metadata": {},
   "outputs": [
    {
     "name": "stdout",
     "output_type": "stream",
     "text": [
      "[[0 1 2 3 4]\n",
      " [5 6 7 8 9]]\n",
      "[[0 5]\n",
      " [1 6]\n",
      " [2 7]\n",
      " [3 8]\n",
      " [4 9]]\n"
     ]
    }
   ],
   "source": [
    "# transpose\n",
    "a = np.arange(10).reshape(2, 5)\n",
    "print(a)\n",
    "a = a.transpose()\n",
    "print(a)"
   ]
  },
  {
   "cell_type": "code",
   "execution_count": 30,
   "metadata": {},
   "outputs": [
    {
     "name": "stdout",
     "output_type": "stream",
     "text": [
      "[[10 20 25 30]\n",
      " [ 5 15 70 90]]\n",
      "[[ 5 15 25 30]\n",
      " [10 20 70 90]]\n",
      "[[ 5 15 25 30]\n",
      " [10 20 70 90]]\n"
     ]
    }
   ],
   "source": [
    "# sorting \n",
    "a = np.array([[20,30,25,10], [90,5,70,15]])\n",
    "a.sort()# same as a.sort(axis=-1)\n",
    "print(a)# sort as default\n",
    "a.sort(axis=0)\n",
    "print(a) # sort as column\n",
    "a.sort(axis=1)\n",
    "print(a) # sort as line"
   ]
  }
 ],
 "metadata": {
  "kernelspec": {
   "display_name": "Python 3",
   "language": "python",
   "name": "python3"
  },
  "language_info": {
   "codemirror_mode": {
    "name": "ipython",
    "version": 3
   },
   "file_extension": ".py",
   "mimetype": "text/x-python",
   "name": "python",
   "nbconvert_exporter": "python",
   "pygments_lexer": "ipython3",
   "version": "3.6.7"
  }
 },
 "nbformat": 4,
 "nbformat_minor": 2
}
